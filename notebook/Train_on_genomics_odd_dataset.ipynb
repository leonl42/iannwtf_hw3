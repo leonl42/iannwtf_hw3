{
  "nbformat": 4,
  "nbformat_minor": 0,
  "metadata": {
    "colab": {
      "name": "Train_on_genomics_odd_dataset.ipynb",
      "provenance": [],
      "collapsed_sections": []
    },
    "kernelspec": {
      "display_name": "Python 3",
      "name": "python3"
    },
    "language_info": {
      "codemirror_mode": {
        "name": "ipython",
        "version": 3
      },
      "file_extension": ".py",
      "mimetype": "text/x-python",
      "name": "python",
      "nbconvert_exporter": "python",
      "pygments_lexer": "ipython3",
      "version": "3.9.5"
    },
    "widgets": {
      "application/vnd.jupyter.widget-state+json": {
        "1008fafa39ce4ba9a44a38fda19f362e": {
          "model_module": "@jupyter-widgets/controls",
          "model_name": "HBoxModel",
          "model_module_version": "1.5.0",
          "state": {
            "_view_name": "HBoxView",
            "_dom_classes": [],
            "_model_name": "HBoxModel",
            "_view_module": "@jupyter-widgets/controls",
            "_model_module_version": "1.5.0",
            "_view_count": null,
            "_view_module_version": "1.5.0",
            "box_style": "",
            "layout": "IPY_MODEL_56024b2c3dd147e5bd9a5f874336528b",
            "_model_module": "@jupyter-widgets/controls",
            "children": [
              "IPY_MODEL_8000b873901c49079355963a3b892aba",
              "IPY_MODEL_632661090d0244f99da536c41d6c68c7",
              "IPY_MODEL_8d2f862a623048e59f514a09165540ea"
            ]
          }
        },
        "56024b2c3dd147e5bd9a5f874336528b": {
          "model_module": "@jupyter-widgets/base",
          "model_name": "LayoutModel",
          "model_module_version": "1.2.0",
          "state": {
            "_view_name": "LayoutView",
            "grid_template_rows": null,
            "right": null,
            "justify_content": null,
            "_view_module": "@jupyter-widgets/base",
            "overflow": null,
            "_model_module_version": "1.2.0",
            "_view_count": null,
            "flex_flow": null,
            "width": null,
            "min_width": null,
            "border": null,
            "align_items": null,
            "bottom": null,
            "_model_module": "@jupyter-widgets/base",
            "top": null,
            "grid_column": null,
            "overflow_y": null,
            "overflow_x": null,
            "grid_auto_flow": null,
            "grid_area": null,
            "grid_template_columns": null,
            "flex": null,
            "_model_name": "LayoutModel",
            "justify_items": null,
            "grid_row": null,
            "max_height": null,
            "align_content": null,
            "visibility": null,
            "align_self": null,
            "height": null,
            "min_height": null,
            "padding": null,
            "grid_auto_rows": null,
            "grid_gap": null,
            "max_width": null,
            "order": null,
            "_view_module_version": "1.2.0",
            "grid_template_areas": null,
            "object_position": null,
            "object_fit": null,
            "grid_auto_columns": null,
            "margin": null,
            "display": null,
            "left": null
          }
        },
        "8000b873901c49079355963a3b892aba": {
          "model_module": "@jupyter-widgets/controls",
          "model_name": "HTMLModel",
          "model_module_version": "1.5.0",
          "state": {
            "_view_name": "HTMLView",
            "style": "IPY_MODEL_b705d28e50e14921b8afba3981913541",
            "_dom_classes": [],
            "description": "",
            "_model_name": "HTMLModel",
            "placeholder": "​",
            "_view_module": "@jupyter-widgets/controls",
            "_model_module_version": "1.5.0",
            "value": "Dl Completed...: 100%",
            "_view_count": null,
            "_view_module_version": "1.5.0",
            "description_tooltip": null,
            "_model_module": "@jupyter-widgets/controls",
            "layout": "IPY_MODEL_479e00667b18421ebfedd53a03d57ef7"
          }
        },
        "632661090d0244f99da536c41d6c68c7": {
          "model_module": "@jupyter-widgets/controls",
          "model_name": "FloatProgressModel",
          "model_module_version": "1.5.0",
          "state": {
            "_view_name": "ProgressView",
            "style": "IPY_MODEL_851ecbbf6f174bd1951173829380accc",
            "_dom_classes": [],
            "description": "",
            "_model_name": "FloatProgressModel",
            "bar_style": "success",
            "max": 12,
            "_view_module": "@jupyter-widgets/controls",
            "_model_module_version": "1.5.0",
            "value": 12,
            "_view_count": null,
            "_view_module_version": "1.5.0",
            "orientation": "horizontal",
            "min": 0,
            "description_tooltip": null,
            "_model_module": "@jupyter-widgets/controls",
            "layout": "IPY_MODEL_af929f96429947e693a9e2a34abb74cb"
          }
        },
        "8d2f862a623048e59f514a09165540ea": {
          "model_module": "@jupyter-widgets/controls",
          "model_name": "HTMLModel",
          "model_module_version": "1.5.0",
          "state": {
            "_view_name": "HTMLView",
            "style": "IPY_MODEL_d81899cb99f744f19cc2d3901d8916a1",
            "_dom_classes": [],
            "description": "",
            "_model_name": "HTMLModel",
            "placeholder": "​",
            "_view_module": "@jupyter-widgets/controls",
            "_model_module_version": "1.5.0",
            "value": " 12/12 [00:06&lt;00:00,  2.27 file/s]",
            "_view_count": null,
            "_view_module_version": "1.5.0",
            "description_tooltip": null,
            "_model_module": "@jupyter-widgets/controls",
            "layout": "IPY_MODEL_6a97023eb6544de9981ebb9f6af32721"
          }
        },
        "b705d28e50e14921b8afba3981913541": {
          "model_module": "@jupyter-widgets/controls",
          "model_name": "DescriptionStyleModel",
          "model_module_version": "1.5.0",
          "state": {
            "_view_name": "StyleView",
            "_model_name": "DescriptionStyleModel",
            "description_width": "",
            "_view_module": "@jupyter-widgets/base",
            "_model_module_version": "1.5.0",
            "_view_count": null,
            "_view_module_version": "1.2.0",
            "_model_module": "@jupyter-widgets/controls"
          }
        },
        "479e00667b18421ebfedd53a03d57ef7": {
          "model_module": "@jupyter-widgets/base",
          "model_name": "LayoutModel",
          "model_module_version": "1.2.0",
          "state": {
            "_view_name": "LayoutView",
            "grid_template_rows": null,
            "right": null,
            "justify_content": null,
            "_view_module": "@jupyter-widgets/base",
            "overflow": null,
            "_model_module_version": "1.2.0",
            "_view_count": null,
            "flex_flow": null,
            "width": null,
            "min_width": null,
            "border": null,
            "align_items": null,
            "bottom": null,
            "_model_module": "@jupyter-widgets/base",
            "top": null,
            "grid_column": null,
            "overflow_y": null,
            "overflow_x": null,
            "grid_auto_flow": null,
            "grid_area": null,
            "grid_template_columns": null,
            "flex": null,
            "_model_name": "LayoutModel",
            "justify_items": null,
            "grid_row": null,
            "max_height": null,
            "align_content": null,
            "visibility": null,
            "align_self": null,
            "height": null,
            "min_height": null,
            "padding": null,
            "grid_auto_rows": null,
            "grid_gap": null,
            "max_width": null,
            "order": null,
            "_view_module_version": "1.2.0",
            "grid_template_areas": null,
            "object_position": null,
            "object_fit": null,
            "grid_auto_columns": null,
            "margin": null,
            "display": null,
            "left": null
          }
        },
        "851ecbbf6f174bd1951173829380accc": {
          "model_module": "@jupyter-widgets/controls",
          "model_name": "ProgressStyleModel",
          "model_module_version": "1.5.0",
          "state": {
            "_view_name": "StyleView",
            "_model_name": "ProgressStyleModel",
            "description_width": "",
            "_view_module": "@jupyter-widgets/base",
            "_model_module_version": "1.5.0",
            "_view_count": null,
            "_view_module_version": "1.2.0",
            "bar_color": null,
            "_model_module": "@jupyter-widgets/controls"
          }
        },
        "af929f96429947e693a9e2a34abb74cb": {
          "model_module": "@jupyter-widgets/base",
          "model_name": "LayoutModel",
          "model_module_version": "1.2.0",
          "state": {
            "_view_name": "LayoutView",
            "grid_template_rows": null,
            "right": null,
            "justify_content": null,
            "_view_module": "@jupyter-widgets/base",
            "overflow": null,
            "_model_module_version": "1.2.0",
            "_view_count": null,
            "flex_flow": null,
            "width": null,
            "min_width": null,
            "border": null,
            "align_items": null,
            "bottom": null,
            "_model_module": "@jupyter-widgets/base",
            "top": null,
            "grid_column": null,
            "overflow_y": null,
            "overflow_x": null,
            "grid_auto_flow": null,
            "grid_area": null,
            "grid_template_columns": null,
            "flex": null,
            "_model_name": "LayoutModel",
            "justify_items": null,
            "grid_row": null,
            "max_height": null,
            "align_content": null,
            "visibility": null,
            "align_self": null,
            "height": null,
            "min_height": null,
            "padding": null,
            "grid_auto_rows": null,
            "grid_gap": null,
            "max_width": null,
            "order": null,
            "_view_module_version": "1.2.0",
            "grid_template_areas": null,
            "object_position": null,
            "object_fit": null,
            "grid_auto_columns": null,
            "margin": null,
            "display": null,
            "left": null
          }
        },
        "d81899cb99f744f19cc2d3901d8916a1": {
          "model_module": "@jupyter-widgets/controls",
          "model_name": "DescriptionStyleModel",
          "model_module_version": "1.5.0",
          "state": {
            "_view_name": "StyleView",
            "_model_name": "DescriptionStyleModel",
            "description_width": "",
            "_view_module": "@jupyter-widgets/base",
            "_model_module_version": "1.5.0",
            "_view_count": null,
            "_view_module_version": "1.2.0",
            "_model_module": "@jupyter-widgets/controls"
          }
        },
        "6a97023eb6544de9981ebb9f6af32721": {
          "model_module": "@jupyter-widgets/base",
          "model_name": "LayoutModel",
          "model_module_version": "1.2.0",
          "state": {
            "_view_name": "LayoutView",
            "grid_template_rows": null,
            "right": null,
            "justify_content": null,
            "_view_module": "@jupyter-widgets/base",
            "overflow": null,
            "_model_module_version": "1.2.0",
            "_view_count": null,
            "flex_flow": null,
            "width": null,
            "min_width": null,
            "border": null,
            "align_items": null,
            "bottom": null,
            "_model_module": "@jupyter-widgets/base",
            "top": null,
            "grid_column": null,
            "overflow_y": null,
            "overflow_x": null,
            "grid_auto_flow": null,
            "grid_area": null,
            "grid_template_columns": null,
            "flex": null,
            "_model_name": "LayoutModel",
            "justify_items": null,
            "grid_row": null,
            "max_height": null,
            "align_content": null,
            "visibility": null,
            "align_self": null,
            "height": null,
            "min_height": null,
            "padding": null,
            "grid_auto_rows": null,
            "grid_gap": null,
            "max_width": null,
            "order": null,
            "_view_module_version": "1.2.0",
            "grid_template_areas": null,
            "object_position": null,
            "object_fit": null,
            "grid_auto_columns": null,
            "margin": null,
            "display": null,
            "left": null
          }
        }
      }
    }
  },
  "cells": [
    {
      "cell_type": "markdown",
      "metadata": {
        "id": "3YE25FgHqoF2"
      },
      "source": [
        "**Genomics_ood Classification Network**"
      ]
    },
    {
      "cell_type": "markdown",
      "metadata": {
        "id": "bDchKEmEqqC8"
      },
      "source": [
        "Imports"
      ]
    },
    {
      "cell_type": "code",
      "metadata": {
        "id": "2BItZfLbp1yk"
      },
      "source": [
        "import tensorflow as tf\n",
        "import tensorflow_datasets as tfds\n",
        "import matplotlib.pyplot as plt\n",
        "import numpy as np"
      ],
      "execution_count": 1,
      "outputs": []
    },
    {
      "cell_type": "markdown",
      "metadata": {
        "id": "kZbtJjBuqoRs"
      },
      "source": [
        "Custom Layer Class"
      ]
    },
    {
      "cell_type": "code",
      "metadata": {
        "id": "hZyk2YvUXT04"
      },
      "source": [
        "class MyDense(tf.keras.layers.Layer):\n",
        "  \"\"\"\n",
        "  Our own custom layer function, which inherits from the keras.layers.Layer class\n",
        "\n",
        "    Functions:\n",
        "      init: constructor\n",
        "      call: calculates output tensor for this layer\n",
        "      build: creates weights and bias when call is the first time run\n",
        "  \"\"\"\n",
        "\n",
        "  def __init__(self, units, activation=tf.nn.softmax):\n",
        "    \"\"\"\n",
        "    Constructs an fully connected layer.\n",
        "\n",
        "      Args:\n",
        "        units: perceptrons of our layer\n",
        "        activation: activation function of our layer\n",
        "    \"\"\"\n",
        "\n",
        "    super(MyDense, self).__init__()\n",
        "\n",
        "    self.units = units\n",
        "    self.activation = activation\n",
        "\n",
        "\n",
        "  def call(self, inputs):\n",
        "    \"\"\"\n",
        "    Calculates the output of our layer. (forwads_step)\n",
        "\n",
        "      Args:\n",
        "        inputs: input tensor of our layer\n",
        "\n",
        "      Returns:\n",
        "        x: the output of our layer\n",
        "    \"\"\"\n",
        "\n",
        "    x = tf.matmul(inputs, self.w) + self.b\n",
        "    x = self.activation(x)\n",
        "\n",
        "    return x\n",
        "\n",
        "\n",
        "  def build(self,input_shape):\n",
        "    \"\"\"\n",
        "    Creates random weights and bias from a normal distribution for our layer.\n",
        "\n",
        "      Args:\n",
        "        input_shape: dimension of our input-tensor\n",
        "    \"\"\"\n",
        "\n",
        "    self.w = self.add_weight(shape=(input_shape[-1],self.units),\n",
        "                             initializer='random_normal',\n",
        "                             trainable=True)\n",
        "    self.b = self.add_weight(shape=(self.units,),\n",
        "                            initializer='random_normal',\n",
        "                            trainable=True)\n",
        "\n",
        "\n"
      ],
      "execution_count": 2,
      "outputs": []
    },
    {
      "cell_type": "markdown",
      "metadata": {
        "id": "CigPguUFXUEy"
      },
      "source": [
        "Custom Model Class"
      ]
    },
    {
      "cell_type": "code",
      "metadata": {
        "id": "J5_vwPm_DMwu"
      },
      "source": [
        "class MyModel(tf.keras.Model):\n",
        "  \"\"\" \n",
        "  Our own custon MLP model, which inherits from the keras.Model class\n",
        "\n",
        "    Functions:\n",
        "      init: constructor of our model\n",
        "      call: performs forward pass of our model\n",
        "  \"\"\"\n",
        "  def __init__(self):\n",
        "    \"\"\"\n",
        "    Constructs our MLP model with three fully connected layers.\n",
        "    \"\"\"\n",
        "\n",
        "    super(MyModel, self).__init__()\n",
        "\n",
        "    # two hidden layers with each 256 perceptrons and sigmoid as activation function\n",
        "    self.dense_h1 = MyDense(256, activation=tf.nn.sigmoid)\n",
        "    self.dense_h2 = MyDense(256, activation=tf.nn.sigmoid)\n",
        "\n",
        "    # our output layer with 10 perceptrons (our output categories) and softmax activation\n",
        "    self.dense_o = MyDense(10, activation=tf.nn.softmax)\n",
        "\n",
        "  def call(self, inputs):\n",
        "    \"\"\"\n",
        "    Performs a forward step in our MLP\n",
        "\n",
        "      Args:\n",
        "        inputs: our preprocessed input data, we send through our model\n",
        "      Results:\n",
        "        output: the predicted output of our input data\n",
        "    \"\"\"\n",
        "    # first hidden layer\n",
        "    x = self.dense_h1(inputs)\n",
        "\n",
        "    # second hidden layer\n",
        "    x = self.dense_h2(x)\n",
        "    \n",
        "    # output layer\n",
        "    output = self.dense_o(x)\n",
        "\n",
        "    return output\n"
      ],
      "execution_count": 4,
      "outputs": []
    },
    {
      "cell_type": "markdown",
      "metadata": {
        "id": "prq9aL8jsR4a"
      },
      "source": [
        "Train Function"
      ]
    },
    {
      "cell_type": "code",
      "metadata": {
        "id": "s5CzafaQX8gM"
      },
      "source": [
        "@tf.function\n",
        "def train_step(model, input, target, loss_function, optimizer):\n",
        "  \"\"\"\n",
        "  Performs a forward and backward pass for  one dataponit of our training set\n",
        "\n",
        "    Parameters:\n",
        "      model: our created MLP model\n",
        "      input:\n",
        "      target:\n",
        "      loss_funcion: function we used for calculating our loss\n",
        "      optimizer: our optimizer used for packpropagation\n",
        "    Results:\n",
        "      loss: our calculated loss for the datapoint\n",
        "  \"\"\"\n",
        "  \n",
        "  with tf.GradientTape() as tape:\n",
        "\n",
        "    # forward step\n",
        "    prediction = model(input)\n",
        "\n",
        "    # calculating loss\n",
        "    loss = loss_function(target, prediction)\n",
        "\n",
        "    # calculaing the gradients\n",
        "    gradients = tape.gradient(loss, model.trainable_variables)\n",
        "\n",
        "  # updating weights and biases  \n",
        "  optimizer.apply_gradients(zip(gradients, model.trainable_variables))\n",
        "\n",
        "  return loss"
      ],
      "execution_count": 5,
      "outputs": []
    },
    {
      "cell_type": "markdown",
      "metadata": {
        "id": "INBJw3gRX8rv"
      },
      "source": [
        "Test Function"
      ]
    },
    {
      "cell_type": "code",
      "metadata": {
        "id": "RMr4J3WUp9yb"
      },
      "source": [
        "def test(model, test_data, loss_function):\n",
        "  \"\"\"\n",
        "  Test our MLP, by going through our testing dataset, \n",
        "  performing a forward pass and calculating loss and accuracy\n",
        "\n",
        "    Parameters:\n",
        "      model: our created MLP model\n",
        "      test_data: our preprocessed test dataset\n",
        "      loss_funcion: function we used for calculating our loss\n",
        "    Results:\n",
        "\n",
        "        \n",
        "  \"\"\"\n",
        "  # initializing lists for accuracys and loss\n",
        "  accuracy_aggregator = []\n",
        "  loss_aggregator = []\n",
        "\n",
        "  for (input, target) in test_data:\n",
        "\n",
        "    # forward step\n",
        "    prediction = model(input)\n",
        "\n",
        "    # calculating loss\n",
        "    loss = loss_function(target, prediction)\n",
        "\n",
        "    # calculating accuracy\n",
        "    accuracy =  np.argmax(target.numpy(), axis=1) == np.argmax(prediction.numpy(), axis=1)\n",
        "    accuracy = np.mean(accuracy)\n",
        "\n",
        "    # add loss and accuracy to the lists\n",
        "    loss_aggregator.append(loss.numpy())\n",
        "    accuracy_aggregator.append(np.mean(accuracy))\n",
        "\n",
        "  # calculate the mean of the loss and accuracy (for this epoch)\n",
        "  loss = tf.reduce_mean(loss_aggregator)\n",
        "  accuracy = tf.reduce_mean(accuracy_aggregator)\n",
        "  \n",
        "  return loss, accuracy"
      ],
      "execution_count": 6,
      "outputs": []
    },
    {
      "cell_type": "markdown",
      "metadata": {
        "id": "7A6f5y_cfm0G"
      },
      "source": [
        "Preprocessing Functions"
      ]
    },
    {
      "cell_type": "code",
      "metadata": {
        "id": "uMakiP4JqdWI"
      },
      "source": [
        "\n",
        "@tf.function()\n",
        "def one_hot_encode(categories,input):\n",
        "  \"\"\"\n",
        "  Creates an one_hot-tensor from our byte-string input.\n",
        "    Parameters: \n",
        "              categories = categories of our input for one hot encoding \n",
        "              input = tf.string, which we want to encode\n",
        "  \"\"\"\n",
        "\n",
        "  # split the tensor containing the genome sequence into a list of tensors,\n",
        "  # each containing one character from the original sequence\n",
        "  splitted = tf.strings.bytes_split(input)\n",
        "  reshaped = tf.reshape(splitted,(250,))\n",
        "  iterable_tensors = tf.unstack(reshaped)\n",
        "\n",
        "  encoded_input = []\n",
        "\n",
        "  # iterate over the list of single character\n",
        "  for data in iterable_tensors:\n",
        "\n",
        "    # for each category: \n",
        "    # if the character equals that category append 1 and 0 otherwise\n",
        "    encoded_input.extend([int(data==category) for category in categories])\n",
        "    \n",
        "  return encoded_input\n",
        "\n",
        "def prepare_data(ds):\n",
        "  \"\"\"\n",
        "  Preparing our data for our model.\n",
        "    Parameters:\n",
        "      ds: the dataset we want to preprocess\n",
        "    Returns:\n",
        "      ds: preprocessed dataset\n",
        "  \"\"\"\n",
        "\n",
        "  # one hot encode the features and targets\n",
        "  ds = ds.map(lambda feature, target: (one_hot_encode([\"A\",\"C\",\"G\",\"T\"],feature), tf.one_hot(target,10)))\n",
        "\n",
        "  # cast features and targets to float32\n",
        "  ds = ds.map(lambda feature, target: (tf.cast(feature, tf.float32),tf.cast(target,tf.float32)))\n",
        "\n",
        "  # cache the elements\n",
        "  ds = ds.cache()\n",
        "\n",
        "  # shuffle, batch, prefetch our dataset\n",
        "  ds = ds.shuffle(5000)\n",
        "  ds = ds.batch(32)\n",
        "  ds = ds.prefetch(20)\n",
        "  \n",
        "  return ds"
      ],
      "execution_count": 7,
      "outputs": []
    },
    {
      "cell_type": "markdown",
      "metadata": {
        "id": "zQfxcUDxYPny"
      },
      "source": [
        "Loading and preprocessing the data"
      ]
    },
    {
      "cell_type": "code",
      "metadata": {
        "colab": {
          "base_uri": "https://localhost:8080/",
          "height": 191,
          "referenced_widgets": [
            "1008fafa39ce4ba9a44a38fda19f362e",
            "56024b2c3dd147e5bd9a5f874336528b",
            "8000b873901c49079355963a3b892aba",
            "632661090d0244f99da536c41d6c68c7",
            "8d2f862a623048e59f514a09165540ea",
            "b705d28e50e14921b8afba3981913541",
            "479e00667b18421ebfedd53a03d57ef7",
            "851ecbbf6f174bd1951173829380accc",
            "af929f96429947e693a9e2a34abb74cb",
            "d81899cb99f744f19cc2d3901d8916a1",
            "6a97023eb6544de9981ebb9f6af32721"
          ]
        },
        "id": "pnYyUvZBBNxl",
        "outputId": "8977f010-acdf-4bf0-e7ec-00870791c51e"
      },
      "source": [
        "# load data from the genomics_odd dataset; 100.000 samples from the train set and 1000 from the test set\n",
        "train_ds, test_ds = tfds.load('genomics_ood',split = ['train[:100000]','test[:1000]'], shuffle_files = True, as_supervised = True)\n",
        "\n",
        "# preprocess our data\n",
        "train_ds = train_ds.apply(prepare_data)\n",
        "test_ds = test_ds.apply(prepare_data)\n"
      ],
      "execution_count": 8,
      "outputs": [
        {
          "output_type": "stream",
          "name": "stdout",
          "text": [
            "\u001b[1mDownloading and preparing dataset genomics_ood/0.0.1 (download: Unknown size, generated: 926.87 MiB, total: 926.87 MiB) to /root/tensorflow_datasets/genomics_ood/0.0.1...\u001b[0m\n"
          ]
        },
        {
          "output_type": "stream",
          "name": "stderr",
          "text": [
            "WARNING:absl:Dataset genomics_ood is hosted on GCS. It will automatically be downloaded to your\n",
            "local data directory. If you'd instead prefer to read directly from our public\n",
            "GCS bucket (recommended if you're running on GCP), you can instead pass\n",
            "`try_gcs=True` to `tfds.load` or set `data_dir=gs://tfds-data/datasets`.\n",
            "\n"
          ]
        },
        {
          "output_type": "display_data",
          "data": {
            "application/vnd.jupyter.widget-view+json": {
              "model_id": "1008fafa39ce4ba9a44a38fda19f362e",
              "version_minor": 0,
              "version_major": 2
            },
            "text/plain": [
              "Dl Completed...:   0%|          | 0/12 [00:00<?, ? file/s]"
            ]
          },
          "metadata": {}
        },
        {
          "output_type": "stream",
          "name": "stdout",
          "text": [
            "\n",
            "\u001b[1mDataset genomics_ood downloaded and prepared to /root/tensorflow_datasets/genomics_ood/0.0.1. Subsequent calls will reuse this data.\u001b[0m\n"
          ]
        }
      ]
    },
    {
      "cell_type": "markdown",
      "metadata": {
        "id": "DhKdS7qegKdJ"
      },
      "source": [
        "Training and testing our model"
      ]
    },
    {
      "cell_type": "code",
      "metadata": {
        "colab": {
          "base_uri": "https://localhost:8080/"
        },
        "id": "XwENm7VVNz7_",
        "outputId": "0bf790d0-ecae-4655-fb4d-57dd7005f132"
      },
      "source": [
        "tf.keras.backend.clear_session()\n",
        "\n",
        "# Hyperparameters\n",
        "num_epochs = 10\n",
        "learning_rate = 0.1\n",
        "\n",
        "# Initialize the model.\n",
        "model = MyModel()\n",
        "# Initialize the loss: categorical cross entropy\n",
        "cross_entropy_loss = tf.keras.losses.CategoricalCrossentropy()\n",
        "# Initialize the optimizer: SGD with default parameters\n",
        "optimizer = tf.keras.optimizers.SGD(learning_rate)\n",
        "\n",
        "# Initialize lists for later visualization.\n",
        "train_losses = []\n",
        "test_losses = []\n",
        "test_accuracies = []\n",
        "\n",
        "# Testing on our test_ds once before we begin\n",
        "test_loss, test_accuracy = test(model, test_ds, cross_entropy_loss)\n",
        "test_losses.append(test_loss)\n",
        "test_accuracies.append(test_accuracy)\n",
        "\n",
        "# Testing on our train_ds once before we begin\n",
        "train_loss, _ = test(model, train_ds, cross_entropy_loss)\n",
        "train_losses.append(train_loss)\n",
        "\n",
        "# Training our modelfor num_epochs epochs.\n",
        "for epoch in range(num_epochs):\n",
        "    print(f'Epoch: {str(epoch)} starting with accuracy {test_accuracies[-1]}')\n",
        "\n",
        "    # training (and calculating loss while training)\n",
        "    epoch_loss_agg = []\n",
        "    for input,target in train_ds:\n",
        "        train_loss = train_step(model, input, target, cross_entropy_loss, optimizer)\n",
        "        epoch_loss_agg.append(train_loss)\n",
        "    \n",
        "    # track training loss\n",
        "    train_losses.append(tf.reduce_mean(epoch_loss_agg))\n",
        "\n",
        "    # testing our model in each epoch to track accuracy and test loss\n",
        "    test_loss, test_accuracy = test(model, test_ds, cross_entropy_loss)\n",
        "    test_losses.append(test_loss)\n",
        "    test_accuracies.append(test_accuracy)"
      ],
      "execution_count": 10,
      "outputs": [
        {
          "output_type": "stream",
          "name": "stdout",
          "text": [
            "Epoch: 0 starting with accuracy 0.1015625\n",
            "Epoch: 1 starting with accuracy 0.337890625\n",
            "Epoch: 2 starting with accuracy 0.3798828125\n",
            "Epoch: 3 starting with accuracy 0.35546875\n",
            "Epoch: 4 starting with accuracy 0.376953125\n",
            "Epoch: 5 starting with accuracy 0.3701171875\n",
            "Epoch: 6 starting with accuracy 0.375\n",
            "Epoch: 7 starting with accuracy 0.376953125\n",
            "Epoch: 8 starting with accuracy 0.3798828125\n",
            "Epoch: 9 starting with accuracy 0.3544921875\n"
          ]
        }
      ]
    },
    {
      "cell_type": "markdown",
      "metadata": {
        "id": "_boYTCO6syR7"
      },
      "source": [
        "Visualizing losses and accuracy"
      ]
    },
    {
      "cell_type": "code",
      "metadata": {
        "colab": {
          "base_uri": "https://localhost:8080/",
          "height": 278
        },
        "id": "D3pDX454syra",
        "outputId": "0c5d9b16-1dd1-4ced-c53f-c57906249951"
      },
      "source": [
        "def visualize(train_loss,test_loss,accuracy):\n",
        "  \"\"\"\n",
        "  Displays training and testing loss as well as accuracy per epoch each in a line plot.\n",
        "\n",
        "    Args:\n",
        "      train_loss = mean training loss per epoch \n",
        "      test_loss = mean testing loss per epoch\n",
        "      accuracy = mean accuracy (testing dataset) per epoch\n",
        "  \"\"\"\n",
        "\n",
        "  fig, axes = plt.subplots(2)\n",
        "  line_1 = axes[0].plot(train_loss,label=\"  Train Loss\")\n",
        "  line_2 = axes[0].plot(test_loss, label = \"  Test Loss\")\n",
        "  line_3 = axes[1].plot(accuracy, label = \"  Test Accuracy\")\n",
        "  plt.xlabel(\"  Training Epoch\")\n",
        "  axes[0].legend()\n",
        "  axes[1].legend()\n",
        "  plt.show\n",
        "visualize(train_losses,test_losses,test_accuracies)"
      ],
      "execution_count": 11,
      "outputs": [
        {
          "output_type": "display_data",
          "data": {
            "image/png": "[encoded data removed]",
            "text/plain": [
              "<Figure size 432x288 with 2 Axes>"
            ]
          },
          "metadata": {
            "needs_background": "light"
          }
        }
      ]
    },
    {
      "cell_type": "code",
      "metadata": {
        "id": "0doCbvzjXZE9"
      },
      "source": [
        ""
      ],
      "execution_count": null,
      "outputs": []
    }
  ]
}