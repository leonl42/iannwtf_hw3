{
  "cells": [
    {
      "cell_type": "markdown",
      "metadata": {
        "id": "3YE25FgHqoF2"
      },
      "source": [
        "**Genomics_ood Classification Network**"
      ]
    },
    {
      "cell_type": "markdown",
      "metadata": {
        "id": "bDchKEmEqqC8"
      },
      "source": [
        "Imports"
      ]
    },
    {
      "cell_type": "code",
      "execution_count": null,
      "metadata": {
        "id": "2BItZfLbp1yk"
      },
      "outputs": [],
      "source": [
        "import tensorflow as tf\n",
        "import tensorflow_datasets as tfds\n",
        "from tensorflow import keras\n",
        "import matplotlib.pyplot as plt\n",
        "import numpy as np"
      ]
    },
    {
      "cell_type": "markdown",
      "metadata": {
        "id": "kZbtJjBuqoRs"
      },
      "source": [
        "Custom Layer Class"
      ]
    },
    {
      "cell_type": "code",
      "execution_count": null,
      "metadata": {
        "id": "hZyk2YvUXT04"
      },
      "outputs": [],
      "source": [
        "import tensorflow as tf\n",
        "\n",
        "class MyDense(tf.keras.layers.Layer):\n",
        "  \"\"\"\n",
        "  Our own custom layer function, which inherits from the keras.layers.Layer class\n",
        "\n",
        "    Functions:\n",
        "      init: constructor\n",
        "      call: calculates output tensor for this layer\n",
        "      build: creates weights and bias when call is the first time run\n",
        "  \"\"\"\n",
        "\n",
        "  def __init__(self, units, activation=tf.nn.softmax):\n",
        "    \"\"\"\n",
        "    Constructs an fully connected layer.\n",
        "\n",
        "      Args:\n",
        "        units: perceptrons of our layer\n",
        "        activation: activation function of our layer\n",
        "    \"\"\"\n",
        "\n",
        "    super(MyDense, self).__init__()\n",
        "\n",
        "    self.units = units\n",
        "    self.activation = activation\n",
        "\n",
        "\n",
        "  def call(self, inputs):\n",
        "    \"\"\"\n",
        "    Calculates the output of our layer. (forwads_step)\n",
        "\n",
        "      Args:\n",
        "        inputs: input tensor of our layer\n",
        "\n",
        "      Returns:\n",
        "        x: the output of our layer\n",
        "    \"\"\"\n",
        "\n",
        "    x = tf.matmul(inputs, self.w) + self.b\n",
        "    x = self.activation(x)\n",
        "\n",
        "    return x\n",
        "\n",
        "\n",
        "  def build(self,input_shape):\n",
        "    \"\"\"\n",
        "    Creates random weights and bias from a normal distribution for our layer.\n",
        "\n",
        "      Args:\n",
        "        input_shape: dimension of our input-tensor\n",
        "    \"\"\"\n",
        "\n",
        "    self.w = self.add_weight(shape=(input_shape[-1],self.units),\n",
        "                             initializer='random_normal',\n",
        "                             trainable=True)\n",
        "    self.b = self.add_weight(shape=(self.units,),\n",
        "                            initializer='random_normal',\n",
        "                            trainable=True)\n",
        "\n",
        "\n"
      ]
    },
    {
      "cell_type": "markdown",
      "metadata": {
        "id": "CigPguUFXUEy"
      },
      "source": [
        "Custom Model Class"
      ]
    },
    {
      "cell_type": "code",
      "execution_count": null,
      "metadata": {
        "id": "J5_vwPm_DMwu"
      },
      "outputs": [],
      "source": [
        "import tensorflow as tf\n",
        "from layer import MyDense\n",
        "\n",
        "class MyModel(tf.keras.Model):\n",
        "  \"\"\" \n",
        "  Our own custon MLP model, which inherits from the keras.Model class\n",
        "\n",
        "    Functions:\n",
        "      init: constructor of our model\n",
        "      call: performs forward pass of our model\n",
        "  \"\"\"\n",
        "  def __init__(self):\n",
        "    \"\"\"\n",
        "    Constructs our MLP model with three fully connected layers.\n",
        "    \"\"\"\n",
        "\n",
        "    super(MyModel, self).__init__()\n",
        "\n",
        "    # two hidden layers with each 256 perceptrons and sigmoid as activation function\n",
        "    self.dense_h1 = MyDense(256, activation=tf.nn.sigmoid)\n",
        "    self.dense_h2 = MyDense(256, activation=tf.nn.sigmoid)\n",
        "\n",
        "    # our output layer with 10 perceptrons (our output categories) and softmax activation\n",
        "    self.dense_o = MyDense(10, activation=tf.nn.softmax)\n",
        "\n",
        "  def call(self, inputs):\n",
        "    \"\"\"\n",
        "    Performs a forward step in our MLP\n",
        "\n",
        "      Args:\n",
        "        inputs: our preprocessed input data, we send through our model\n",
        "      Results:\n",
        "        output: the predicted output of our input data\n",
        "    \"\"\"\n",
        "    # first hidden layer\n",
        "    x = self.dense_h1(inputs)\n",
        "\n",
        "    # second hidden layer\n",
        "    x = self.dense_h2(x)\n",
        "    \n",
        "    # output layer\n",
        "    output = self.dense_o(x)\n",
        "\n",
        "    return output\n"
      ]
    },
    {
      "cell_type": "markdown",
      "metadata": {
        "id": "prq9aL8jsR4a"
      },
      "source": [
        "Train Function"
      ]
    },
    {
      "cell_type": "code",
      "execution_count": null,
      "metadata": {
        "id": "s5CzafaQX8gM"
      },
      "outputs": [],
      "source": [
        "@tf.function\n",
        "def train_step(model, input, target, loss_function, optimizer):\n",
        "  \"\"\"\n",
        "  Performs a forward and backward pass for  one dataponit of our training set\n",
        "\n",
        "    Parameters:\n",
        "      model: our created MLP model\n",
        "      input:\n",
        "      target:\n",
        "      loss_funcion: function we used for calculating our loss\n",
        "      optimizer: our optimizer used for packpropagation\n",
        "    Results:\n",
        "      loss: our calculated loss for the datapoint\n",
        "  \"\"\"\n",
        "  \n",
        "  with tf.GradientTape() as tape:\n",
        "\n",
        "    # forward step\n",
        "    prediction = model(input)\n",
        "\n",
        "    # calculating loss\n",
        "    loss = loss_function(target, prediction)\n",
        "\n",
        "    # calculaing the gradients\n",
        "    gradients = tape.gradient(loss, model.trainable_variables)\n",
        "\n",
        "  # updating weights and biases  \n",
        "  optimizer.apply_gradients(zip(gradients, model.trainable_variables))\n",
        "\n",
        "  return loss"
      ]
    },
    {
      "cell_type": "markdown",
      "metadata": {
        "id": "INBJw3gRX8rv"
      },
      "source": [
        "Test Function"
      ]
    },
    {
      "cell_type": "code",
      "execution_count": null,
      "metadata": {
        "id": "RMr4J3WUp9yb"
      },
      "outputs": [],
      "source": [
        "def test(model, test_data, loss_function):\n",
        "  \"\"\"\n",
        "  Test our MLP, by going through our testing dataset, \n",
        "  performing a forward pass and calculating loss and accuracy\n",
        "\n",
        "    Parameters:\n",
        "      model: our created MLP model\n",
        "      test_data: our preprocessed test dataset\n",
        "      loss_funcion: function we used for calculating our loss\n",
        "    Results:\n",
        "\n",
        "        \n",
        "  \"\"\"\n",
        "  # initializing lists for accuracys and loss\n",
        "  accuracy_aggregator = []\n",
        "  loss_aggregator = []\n",
        "\n",
        "  for (input, target) in test_data:\n",
        "\n",
        "    # forward step\n",
        "    prediction = model(input)\n",
        "\n",
        "    # calculating loss\n",
        "    loss = loss_function(target, prediction)\n",
        "\n",
        "    # calculating accuracy\n",
        "    accuracy =  np.argmax(target.numpy(), axis=1) == np.argmax(prediction.numpy(), axis=1)\n",
        "    accuracy = np.mean(accuracy)\n",
        "\n",
        "    # add loss and accuracy to the lists\n",
        "    loss_aggregator.append(loss.numpy())\n",
        "    accuracy_aggregator.append(np.mean(accuracy))\n",
        "\n",
        "  # calculate the mean of the loss and accuracy (for this epoch)\n",
        "  loss = tf.reduce_mean(loss_aggregator)\n",
        "  accuracy = tf.reduce_mean(accuracy_aggregator)\n",
        "  \n",
        "  return loss, accuracy"
      ]
    },
    {
      "cell_type": "markdown",
      "metadata": {
        "id": "7A6f5y_cfm0G"
      },
      "source": [
        "Preprocessing Functions"
      ]
    },
    {
      "cell_type": "code",
      "execution_count": null,
      "metadata": {
        "id": "uMakiP4JqdWI"
      },
      "outputs": [],
      "source": [
        "\n",
        "@tf.function()\n",
        "def one_hot_encode(categories,input):\n",
        "  \"\"\"\n",
        "  Creates an one_hot-tensor from our byte-string input.\n",
        "    Parameters: \n",
        "              categories = categories of our input for one hot encoding \n",
        "              input = tf.string, which we want to encode\n",
        "  \"\"\"\n",
        "\n",
        "  # split the tensor containing the genome sequence into a list of tensors,\n",
        "  # each containing one character from the original sequence\n",
        "  splitted = tf.strings.bytes_split(input)\n",
        "  reshaped = tf.reshape(splitted,(250,))\n",
        "  iterable_tensors = tf.unstack(reshaped)\n",
        "\n",
        "  encoded_input = []\n",
        "\n",
        "  # iterate over the list of single character\n",
        "  for data in iterable_tensors:\n",
        "\n",
        "    # for each category: \n",
        "    # if the character equals that category append 1 and 0 otherwise\n",
        "    encoded_input.extend([int(data==category) for category in categories])\n",
        "    \n",
        "  return encoded_input\n",
        "\n",
        "def prepare_data(ds):\n",
        "  \"\"\"\n",
        "   Preparing our data for our model.\n",
        "    Parameters:\n",
        "      ds: the dataset we want to preprocess\n",
        "    Returns:\n",
        "      ds: preprocessed dataset\n",
        "  \"\"\"\n",
        "\n",
        "  ds = ds.map(lambda input, target: (one_hot_encode([\"A\",\"C\",\"G\",\"T\"],input), tf.one_hot(target,10)))\n",
        "  ds = ds.map(lambda input, target: (tf.cast(input, tf.float32),tf.cast(target,tf.float32)))\n",
        "\n",
        "  # cache\n",
        "  ds = ds.cache()\n",
        "\n",
        "  # shuffle, batch, prefetch our dataset\n",
        "  ds = ds.shuffle(5000)\n",
        "  ds = ds.batch(32)\n",
        "  ds = ds.prefetch(20)\n",
        "  \n",
        "  return ds"
      ]
    },
    {
      "cell_type": "markdown",
      "metadata": {
        "id": "zQfxcUDxYPny"
      },
      "source": [
        "Loading and preprocessing the data"
      ]
    },
    {
      "cell_type": "code",
      "execution_count": null,
      "metadata": {
        "colab": {
          "base_uri": "https://localhost:8080/",
          "height": 191,
          "referenced_widgets": [
            "046c5eb4d1c54a9f9b660bffb34c58de",
            "22c6ebc6417440389aebd04eb03d9dd1",
            "793ff55c1bcb4434aa1055ef380aed88",
            "efd659e6be8c49db996df304ad82770c",
            "1d108560a14f4415876e53d2fdc0f5e8",
            "447f8a35ac294097a84e814d1a8dbbfd",
            "841c768cd6f2478cb6ea354b69f5e542",
            "d64607ff65084b87850cf931fd17fdb6",
            "9405aa64e88b4ff4bcccd624a1a58320",
            "9be13e81609f4945b48903dd80c26387",
            "e14f19e5a25a49cd882deb7b1a9a3a49"
          ]
        },
        "id": "pnYyUvZBBNxl",
        "outputId": "3c86868c-0c64-4369-f1b0-9b69a8406d0f"
      },
      "outputs": [
        {
          "name": "stdout",
          "output_type": "stream",
          "text": [
            "\u001b[1mDownloading and preparing dataset genomics_ood/0.0.1 (download: Unknown size, generated: 926.87 MiB, total: 926.87 MiB) to /root/tensorflow_datasets/genomics_ood/0.0.1...\u001b[0m\n"
          ]
        },
        {
          "name": "stderr",
          "output_type": "stream",
          "text": [
            "WARNING:absl:Dataset genomics_ood is hosted on GCS. It will automatically be downloaded to your\n",
            "local data directory. If you'd instead prefer to read directly from our public\n",
            "GCS bucket (recommended if you're running on GCP), you can instead pass\n",
            "`try_gcs=True` to `tfds.load` or set `data_dir=gs://tfds-data/datasets`.\n",
            "\n"
          ]
        },
        {
          "data": {
            "application/vnd.jupyter.widget-view+json": {
              "model_id": "046c5eb4d1c54a9f9b660bffb34c58de",
              "version_major": 2,
              "version_minor": 0
            },
            "text/plain": [
              "Dl Completed...:   0%|          | 0/12 [00:00<?, ? file/s]"
            ]
          },
          "metadata": {},
          "output_type": "display_data"
        },
        {
          "name": "stdout",
          "output_type": "stream",
          "text": [
            "\n",
            "\u001b[1mDataset genomics_ood downloaded and prepared to /root/tensorflow_datasets/genomics_ood/0.0.1. Subsequent calls will reuse this data.\u001b[0m\n"
          ]
        }
      ],
      "source": [
        "# load data from the genomics_odd dataset; 100.000 samples from the train set and 1000 from the test set\n",
        "train_ds, test_ds = tfds.load('genomics_ood',split = ['train[:100000]','test[:1000]'], shuffle_files = True, as_supervised = True)\n",
        "\n",
        "# preprocess our data\n",
        "train_ds = train_ds.apply(prepare_data)\n",
        "test_ds = test_ds.apply(prepare_data)\n"
      ]
    },
    {
      "cell_type": "markdown",
      "metadata": {
        "id": "DhKdS7qegKdJ"
      },
      "source": [
        "Training and testing our model"
      ]
    },
    {
      "cell_type": "code",
      "execution_count": null,
      "metadata": {
        "colab": {
          "base_uri": "https://localhost:8080/"
        },
        "id": "XwENm7VVNz7_",
        "outputId": "074847c4-cc08-42a6-8b56-d7a06eb04fce"
      },
      "outputs": [
        {
          "name": "stdout",
          "output_type": "stream",
          "text": [
            "Epoch: 0 starting with accuracy 0.130859375\n",
            "Epoch: 1 starting with accuracy 0.3291015625\n",
            "Epoch: 2 starting with accuracy 0.3681640625\n",
            "Epoch: 3 starting with accuracy 0.3193359375\n",
            "Epoch: 4 starting with accuracy 0.40234375\n",
            "Epoch: 5 starting with accuracy 0.38671875\n",
            "Epoch: 6 starting with accuracy 0.380859375\n",
            "Epoch: 7 starting with accuracy 0.3818359375\n",
            "Epoch: 8 starting with accuracy 0.388671875\n",
            "Epoch: 9 starting with accuracy 0.3955078125\n"
          ]
        }
      ],
      "source": [
        "tf.keras.backend.clear_session()\n",
        "\n",
        "# Hyperparameters\n",
        "num_epochs = args.num_epochs\n",
        "learning_rate = 0.1\n",
        "\n",
        "# Initialize the model.\n",
        "model = MyModel()\n",
        "# Initialize the loss: categorical cross entropy\n",
        "cross_entropy_loss = tf.keras.losses.CategoricalCrossentropy()\n",
        "# Initialize the optimizer: SGD with default parameters\n",
        "optimizer = tf.keras.optimizers.SGD(learning_rate)\n",
        "\n",
        "# Initialize lists for later visualization.\n",
        "train_losses = []\n",
        "test_losses = []\n",
        "test_accuracies = []\n",
        "\n",
        "# Testing on our test_ds once before we begin\n",
        "test_loss, test_accuracy = test(model, test_ds, cross_entropy_loss)\n",
        "test_losses.append(test_loss)\n",
        "test_accuracies.append(test_accuracy)\n",
        "\n",
        "# Testing on our train_ds once before we begin\n",
        "train_loss, _ = test(model, train_ds, cross_entropy_loss)\n",
        "train_losses.append(train_loss)\n",
        "\n",
        "# Training our modelfor num_epochs epochs.\n",
        "for epoch in range(num_epochs):\n",
        "    print(f'Epoch: {str(epoch)} starting with accuracy {test_accuracies[-1]}')\n",
        "\n",
        "    # training (and calculating loss while training)\n",
        "    epoch_loss_agg = []\n",
        "    for input,target in train_ds:\n",
        "        train_loss = train_step(model, input, target, cross_entropy_loss, optimizer)\n",
        "        epoch_loss_agg.append(train_loss)\n",
        "    \n",
        "    # track training loss\n",
        "    train_losses.append(tf.reduce_mean(epoch_loss_agg))\n",
        "\n",
        "    # testing our model in each epoch to track accuracy and test loss\n",
        "    test_loss, test_accuracy = test(model, test_ds, cross_entropy_loss)\n",
        "    test_losses.append(test_loss)\n",
        "    test_accuracies.append(test_accuracy)"
      ]
    },
    {
      "cell_type": "markdown",
      "metadata": {
        "id": "_boYTCO6syR7"
      },
      "source": [
        "Visualizing losses and accuracy"
      ]
    },
    {
      "cell_type": "code",
      "execution_count": null,
      "metadata": {
        "colab": {
          "base_uri": "https://localhost:8080/",
          "height": 279
        },
        "id": "D3pDX454syra",
        "outputId": "20d47615-ee68-490a-a2cc-d48865cc7e5b"
      },
      "outputs": [
        {
          "data": {
            "image/png": "[encoded data removed]",
            "text/plain": [
              "<Figure size 432x288 with 2 Axes>"
            ]
          },
          "metadata": {
            "needs_background": "light"
          },
          "output_type": "display_data"
        }
      ],
      "source": [
        "def visualize(train_loss,test_loss,accuracy):\n",
        "  \"\"\"\n",
        "    Displays training and testing loss as well as accuracy per epoch each in a line plot.\n",
        "\n",
        "      Args:\n",
        "        train_loss = mean training loss per epoch \n",
        "        test_loss = mean testing loss per epoch\n",
        "        accuracy = mean accuracy (testing dataset) per epoch\n",
        "  \"\"\"\n",
        "\n",
        "  fig, axes = plt.subplots(2)\n",
        "  line_1 = axes[0].plot(train_loss,label=\"  Train Loss\")\n",
        "  line_2 = axes[0].plot(test_loss, label = \"  Test Loss\")\n",
        "  line_3 = axes[1].plot(accuracy, label = \"  Test Accuracy\")\n",
        "  plt.xlabel(\"  Training Epoch\")\n",
        "  axes[0].legend()\n",
        "  axes[1].legend()\n",
        "  plt.show\n",
        "visualize(train_losses,test_losses,test_accuracies)"
      ]
    },
    {
      "cell_type": "code",
      "execution_count": null,
      "metadata": {
        "id": "0doCbvzjXZE9"
      },
      "outputs": [],
      "source": []
    }
  ],
  "metadata": {
    "colab": {
      "collapsed_sections": [],
      "name": "Train_on_genomics_odd_dataset.ipynb",
      "provenance": []
    },
    "kernelspec": {
      "display_name": "Python 3",
      "name": "python3"
    },
    "language_info": {
      "name": "python"
    },
    "widgets": {
      "application/vnd.jupyter.widget-state+json": {
        "046c5eb4d1c54a9f9b660bffb34c58de": {
          "model_module": "@jupyter-widgets/controls",
          "model_module_version": "1.5.0",
          "model_name": "HBoxModel",
          "state": {
            "_dom_classes": [],
            "_model_module": "@jupyter-widgets/controls",
            "_model_module_version": "1.5.0",
            "_model_name": "HBoxModel",
            "_view_count": null,
            "_view_module": "@jupyter-widgets/controls",
            "_view_module_version": "1.5.0",
            "_view_name": "HBoxView",
            "box_style": "",
            "children": [
              "IPY_MODEL_793ff55c1bcb4434aa1055ef380aed88",
              "IPY_MODEL_efd659e6be8c49db996df304ad82770c",
              "IPY_MODEL_1d108560a14f4415876e53d2fdc0f5e8"
            ],
            "layout": "IPY_MODEL_22c6ebc6417440389aebd04eb03d9dd1"
          }
        },
        "1d108560a14f4415876e53d2fdc0f5e8": {
          "model_module": "@jupyter-widgets/controls",
          "model_module_version": "1.5.0",
          "model_name": "HTMLModel",
          "state": {
            "_dom_classes": [],
            "_model_module": "@jupyter-widgets/controls",
            "_model_module_version": "1.5.0",
            "_model_name": "HTMLModel",
            "_view_count": null,
            "_view_module": "@jupyter-widgets/controls",
            "_view_module_version": "1.5.0",
            "_view_name": "HTMLView",
            "description": "",
            "description_tooltip": null,
            "layout": "IPY_MODEL_e14f19e5a25a49cd882deb7b1a9a3a49",
            "placeholder": "​",
            "style": "IPY_MODEL_9be13e81609f4945b48903dd80c26387",
            "value": " 12/12 [00:04&lt;00:00,  4.35 file/s]"
          }
        },
        "22c6ebc6417440389aebd04eb03d9dd1": {
          "model_module": "@jupyter-widgets/base",
          "model_module_version": "1.2.0",
          "model_name": "LayoutModel",
          "state": {
            "_model_module": "@jupyter-widgets/base",
            "_model_module_version": "1.2.0",
            "_model_name": "LayoutModel",
            "_view_count": null,
            "_view_module": "@jupyter-widgets/base",
            "_view_module_version": "1.2.0",
            "_view_name": "LayoutView",
            "align_content": null,
            "align_items": null,
            "align_self": null,
            "border": null,
            "bottom": null,
            "display": null,
            "flex": null,
            "flex_flow": null,
            "grid_area": null,
            "grid_auto_columns": null,
            "grid_auto_flow": null,
            "grid_auto_rows": null,
            "grid_column": null,
            "grid_gap": null,
            "grid_row": null,
            "grid_template_areas": null,
            "grid_template_columns": null,
            "grid_template_rows": null,
            "height": null,
            "justify_content": null,
            "justify_items": null,
            "left": null,
            "margin": null,
            "max_height": null,
            "max_width": null,
            "min_height": null,
            "min_width": null,
            "object_fit": null,
            "object_position": null,
            "order": null,
            "overflow": null,
            "overflow_x": null,
            "overflow_y": null,
            "padding": null,
            "right": null,
            "top": null,
            "visibility": null,
            "width": null
          }
        },
        "447f8a35ac294097a84e814d1a8dbbfd": {
          "model_module": "@jupyter-widgets/controls",
          "model_module_version": "1.5.0",
          "model_name": "DescriptionStyleModel",
          "state": {
            "_model_module": "@jupyter-widgets/controls",
            "_model_module_version": "1.5.0",
            "_model_name": "DescriptionStyleModel",
            "_view_count": null,
            "_view_module": "@jupyter-widgets/base",
            "_view_module_version": "1.2.0",
            "_view_name": "StyleView",
            "description_width": ""
          }
        },
        "793ff55c1bcb4434aa1055ef380aed88": {
          "model_module": "@jupyter-widgets/controls",
          "model_module_version": "1.5.0",
          "model_name": "HTMLModel",
          "state": {
            "_dom_classes": [],
            "_model_module": "@jupyter-widgets/controls",
            "_model_module_version": "1.5.0",
            "_model_name": "HTMLModel",
            "_view_count": null,
            "_view_module": "@jupyter-widgets/controls",
            "_view_module_version": "1.5.0",
            "_view_name": "HTMLView",
            "description": "",
            "description_tooltip": null,
            "layout": "IPY_MODEL_841c768cd6f2478cb6ea354b69f5e542",
            "placeholder": "​",
            "style": "IPY_MODEL_447f8a35ac294097a84e814d1a8dbbfd",
            "value": "Dl Completed...: 100%"
          }
        },
        "841c768cd6f2478cb6ea354b69f5e542": {
          "model_module": "@jupyter-widgets/base",
          "model_module_version": "1.2.0",
          "model_name": "LayoutModel",
          "state": {
            "_model_module": "@jupyter-widgets/base",
            "_model_module_version": "1.2.0",
            "_model_name": "LayoutModel",
            "_view_count": null,
            "_view_module": "@jupyter-widgets/base",
            "_view_module_version": "1.2.0",
            "_view_name": "LayoutView",
            "align_content": null,
            "align_items": null,
            "align_self": null,
            "border": null,
            "bottom": null,
            "display": null,
            "flex": null,
            "flex_flow": null,
            "grid_area": null,
            "grid_auto_columns": null,
            "grid_auto_flow": null,
            "grid_auto_rows": null,
            "grid_column": null,
            "grid_gap": null,
            "grid_row": null,
            "grid_template_areas": null,
            "grid_template_columns": null,
            "grid_template_rows": null,
            "height": null,
            "justify_content": null,
            "justify_items": null,
            "left": null,
            "margin": null,
            "max_height": null,
            "max_width": null,
            "min_height": null,
            "min_width": null,
            "object_fit": null,
            "object_position": null,
            "order": null,
            "overflow": null,
            "overflow_x": null,
            "overflow_y": null,
            "padding": null,
            "right": null,
            "top": null,
            "visibility": null,
            "width": null
          }
        },
        "9405aa64e88b4ff4bcccd624a1a58320": {
          "model_module": "@jupyter-widgets/base",
          "model_module_version": "1.2.0",
          "model_name": "LayoutModel",
          "state": {
            "_model_module": "@jupyter-widgets/base",
            "_model_module_version": "1.2.0",
            "_model_name": "LayoutModel",
            "_view_count": null,
            "_view_module": "@jupyter-widgets/base",
            "_view_module_version": "1.2.0",
            "_view_name": "LayoutView",
            "align_content": null,
            "align_items": null,
            "align_self": null,
            "border": null,
            "bottom": null,
            "display": null,
            "flex": null,
            "flex_flow": null,
            "grid_area": null,
            "grid_auto_columns": null,
            "grid_auto_flow": null,
            "grid_auto_rows": null,
            "grid_column": null,
            "grid_gap": null,
            "grid_row": null,
            "grid_template_areas": null,
            "grid_template_columns": null,
            "grid_template_rows": null,
            "height": null,
            "justify_content": null,
            "justify_items": null,
            "left": null,
            "margin": null,
            "max_height": null,
            "max_width": null,
            "min_height": null,
            "min_width": null,
            "object_fit": null,
            "object_position": null,
            "order": null,
            "overflow": null,
            "overflow_x": null,
            "overflow_y": null,
            "padding": null,
            "right": null,
            "top": null,
            "visibility": null,
            "width": null
          }
        },
        "9be13e81609f4945b48903dd80c26387": {
          "model_module": "@jupyter-widgets/controls",
          "model_module_version": "1.5.0",
          "model_name": "DescriptionStyleModel",
          "state": {
            "_model_module": "@jupyter-widgets/controls",
            "_model_module_version": "1.5.0",
            "_model_name": "DescriptionStyleModel",
            "_view_count": null,
            "_view_module": "@jupyter-widgets/base",
            "_view_module_version": "1.2.0",
            "_view_name": "StyleView",
            "description_width": ""
          }
        },
        "d64607ff65084b87850cf931fd17fdb6": {
          "model_module": "@jupyter-widgets/controls",
          "model_module_version": "1.5.0",
          "model_name": "ProgressStyleModel",
          "state": {
            "_model_module": "@jupyter-widgets/controls",
            "_model_module_version": "1.5.0",
            "_model_name": "ProgressStyleModel",
            "_view_count": null,
            "_view_module": "@jupyter-widgets/base",
            "_view_module_version": "1.2.0",
            "_view_name": "StyleView",
            "bar_color": null,
            "description_width": ""
          }
        },
        "e14f19e5a25a49cd882deb7b1a9a3a49": {
          "model_module": "@jupyter-widgets/base",
          "model_module_version": "1.2.0",
          "model_name": "LayoutModel",
          "state": {
            "_model_module": "@jupyter-widgets/base",
            "_model_module_version": "1.2.0",
            "_model_name": "LayoutModel",
            "_view_count": null,
            "_view_module": "@jupyter-widgets/base",
            "_view_module_version": "1.2.0",
            "_view_name": "LayoutView",
            "align_content": null,
            "align_items": null,
            "align_self": null,
            "border": null,
            "bottom": null,
            "display": null,
            "flex": null,
            "flex_flow": null,
            "grid_area": null,
            "grid_auto_columns": null,
            "grid_auto_flow": null,
            "grid_auto_rows": null,
            "grid_column": null,
            "grid_gap": null,
            "grid_row": null,
            "grid_template_areas": null,
            "grid_template_columns": null,
            "grid_template_rows": null,
            "height": null,
            "justify_content": null,
            "justify_items": null,
            "left": null,
            "margin": null,
            "max_height": null,
            "max_width": null,
            "min_height": null,
            "min_width": null,
            "object_fit": null,
            "object_position": null,
            "order": null,
            "overflow": null,
            "overflow_x": null,
            "overflow_y": null,
            "padding": null,
            "right": null,
            "top": null,
            "visibility": null,
            "width": null
          }
        },
        "efd659e6be8c49db996df304ad82770c": {
          "model_module": "@jupyter-widgets/controls",
          "model_module_version": "1.5.0",
          "model_name": "FloatProgressModel",
          "state": {
            "_dom_classes": [],
            "_model_module": "@jupyter-widgets/controls",
            "_model_module_version": "1.5.0",
            "_model_name": "FloatProgressModel",
            "_view_count": null,
            "_view_module": "@jupyter-widgets/controls",
            "_view_module_version": "1.5.0",
            "_view_name": "ProgressView",
            "bar_style": "success",
            "description": "",
            "description_tooltip": null,
            "layout": "IPY_MODEL_9405aa64e88b4ff4bcccd624a1a58320",
            "max": 12,
            "min": 0,
            "orientation": "horizontal",
            "style": "IPY_MODEL_d64607ff65084b87850cf931fd17fdb6",
            "value": 12
          }
        }
      }
    }
  },
  "nbformat": 4,
  "nbformat_minor": 0
}
